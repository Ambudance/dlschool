{
  "nbformat": 4,
  "nbformat_minor": 0,
  "metadata": {
    "colab": {
      "name": "HW_lstm.ipynb",
      "provenance": [],
      "collapsed_sections": []
    },
    "kernelspec": {
      "name": "python3",
      "display_name": "Python 3"
    },
    "accelerator": "GPU"
  },
  "cells": [
    {
      "cell_type": "code",
      "metadata": {
        "id": "W8lr89-pTklM",
        "colab_type": "code",
        "colab": {
          "base_uri": "https://localhost:8080/",
          "height": 63
        },
        "outputId": "65b896ef-1d14-4c08-ceed-b80f8a5abf6f"
      },
      "source": [
        "import tensorflow as  tf\n",
        "from tensorflow.keras.models import Sequential\n",
        "from tensorflow.keras.layers import Dense, Dropout, LSTM"
      ],
      "execution_count": 1,
      "outputs": [
        {
          "output_type": "display_data",
          "data": {
            "text/html": [
              "<p style=\"color: red;\">\n",
              "The default version of TensorFlow in Colab will soon switch to TensorFlow 2.x.<br>\n",
              "We recommend you <a href=\"https://www.tensorflow.org/guide/migrate\" target=\"_blank\">upgrade</a> now \n",
              "or ensure your notebook will continue to use TensorFlow 1.x via the <code>%tensorflow_version 1.x</code> magic:\n",
              "<a href=\"https://colab.research.google.com/notebooks/tensorflow_version.ipynb\" target=\"_blank\">more info</a>.</p>\n"
            ],
            "text/plain": [
              "<IPython.core.display.HTML object>"
            ]
          },
          "metadata": {
            "tags": []
          }
        }
      ]
    },
    {
      "cell_type": "code",
      "metadata": {
        "id": "lKN_eZVNe3Gr",
        "colab_type": "code",
        "colab": {}
      },
      "source": [
        "import numpy as np\n",
        "from matplotlib import pyplot as plt"
      ],
      "execution_count": 0,
      "outputs": []
    },
    {
      "cell_type": "code",
      "metadata": {
        "id": "DZJu0iaCUCpv",
        "colab_type": "code",
        "colab": {}
      },
      "source": [
        "mnist = tf.keras.datasets.mnist"
      ],
      "execution_count": 0,
      "outputs": []
    },
    {
      "cell_type": "code",
      "metadata": {
        "id": "LZkNSfj8UUG_",
        "colab_type": "code",
        "colab": {
          "base_uri": "https://localhost:8080/",
          "height": 52
        },
        "outputId": "0b736e7b-97c1-41d2-ba73-61f0d1f8b030"
      },
      "source": [
        "(x_train, y_train), (x_test, y_test) = mnist.load_data()"
      ],
      "execution_count": 4,
      "outputs": [
        {
          "output_type": "stream",
          "text": [
            "Downloading data from https://storage.googleapis.com/tensorflow/tf-keras-datasets/mnist.npz\n",
            "11493376/11490434 [==============================] - 0s 0us/step\n"
          ],
          "name": "stdout"
        }
      ]
    },
    {
      "cell_type": "code",
      "metadata": {
        "id": "NRd1u2_ZUCt7",
        "colab_type": "code",
        "colab": {}
      },
      "source": [
        "x_train = x_train / 255.0\n",
        "x_test = x_test / 255.0"
      ],
      "execution_count": 0,
      "outputs": []
    },
    {
      "cell_type": "code",
      "metadata": {
        "id": "jJr2QzFlUCmB",
        "colab_type": "code",
        "colab": {
          "base_uri": "https://localhost:8080/",
          "height": 34
        },
        "outputId": "190bbd0a-aa9f-432a-e992-8a4c379a0711"
      },
      "source": [
        "print(x_train[0].shape)"
      ],
      "execution_count": 6,
      "outputs": [
        {
          "output_type": "stream",
          "text": [
            "(28, 28)\n"
          ],
          "name": "stdout"
        }
      ]
    },
    {
      "cell_type": "code",
      "metadata": {
        "id": "21Ok8F6NbG0-",
        "colab_type": "code",
        "colab": {
          "base_uri": "https://localhost:8080/",
          "height": 34
        },
        "outputId": "cef14e98-08d3-4cf4-82ad-fc44465b270d"
      },
      "source": [
        "import random\n",
        "random.state = 21"
      ],
      "execution_count": 17,
      "outputs": [
        {
          "output_type": "execute_result",
          "data": {
            "text/plain": [
              "10083"
            ]
          },
          "metadata": {
            "tags": []
          },
          "execution_count": 17
        }
      ]
    },
    {
      "cell_type": "code",
      "metadata": {
        "id": "TFdg4M4SamLG",
        "colab_type": "code",
        "colab": {}
      },
      "source": [
        "x_seq = []\n",
        "y_seq = []\n",
        "#генерируем последовательности и ответы на сумму первых двух чисел для трейна\n",
        "for i in range(60000):\n",
        "  x_sub, y_sub = zip(*random.sample(list(zip(x_train, y_train)), 10))\n",
        "  x_seq.append(np.array(x_sub))\n",
        "  y_seq.append(sum(y_sub[:2]))"
      ],
      "execution_count": 0,
      "outputs": []
    },
    {
      "cell_type": "code",
      "metadata": {
        "id": "2aiXH7sFltsG",
        "colab_type": "code",
        "colab": {}
      },
      "source": [
        "x_seq_test = []\n",
        "y_seq_test = []\n",
        "#генерируем последовательности и ответы на сумму первых двух чисел для теста\n",
        "for i in range(10000):\n",
        "  x_sub_test, y_sub_test = zip(*random.sample(list(zip(x_test, y_test)), 10))\n",
        "  x_seq_test.append(np.array(x_sub_test))\n",
        "  y_seq_test.append(sum(y_sub_test[:2]))"
      ],
      "execution_count": 0,
      "outputs": []
    },
    {
      "cell_type": "code",
      "metadata": {
        "id": "kCn1IPkJyxIt",
        "colab_type": "code",
        "colab": {}
      },
      "source": [
        "x_seq = np.array(x_seq)\n",
        "y_seq = np.array(y_seq)\n",
        "x_seq_test = np.array(x_seq_test)\n",
        "y_seq_test = np.array(y_seq_test)"
      ],
      "execution_count": 0,
      "outputs": []
    },
    {
      "cell_type": "code",
      "metadata": {
        "id": "2Mgxbxty-cH5",
        "colab_type": "code",
        "colab": {
          "base_uri": "https://localhost:8080/",
          "height": 34
        },
        "outputId": "b7eb2374-c9db-4ec7-cd69-d0263dc781bb"
      },
      "source": [
        "x_seq[0][0].shape"
      ],
      "execution_count": 69,
      "outputs": [
        {
          "output_type": "execute_result",
          "data": {
            "text/plain": [
              "(784,)"
            ]
          },
          "metadata": {
            "tags": []
          },
          "execution_count": 69
        }
      ]
    },
    {
      "cell_type": "code",
      "metadata": {
        "id": "Onepnssmz5ea",
        "colab_type": "code",
        "colab": {
          "base_uri": "https://localhost:8080/",
          "height": 34
        },
        "outputId": "fbed3575-80aa-439c-c5cd-9e6295023560"
      },
      "source": [
        "x_seq_test.shape"
      ],
      "execution_count": 52,
      "outputs": [
        {
          "output_type": "execute_result",
          "data": {
            "text/plain": [
              "(10000, 10, 28, 28)"
            ]
          },
          "metadata": {
            "tags": []
          },
          "execution_count": 52
        }
      ]
    },
    {
      "cell_type": "code",
      "metadata": {
        "id": "FMb4X2FTzj7D",
        "colab_type": "code",
        "colab": {
          "base_uri": "https://localhost:8080/",
          "height": 34
        },
        "outputId": "fe164063-86a0-4c60-e6fa-74325e0fad21"
      },
      "source": [
        "x_seq = x_seq.reshape(60000, 10, 28*28)\n",
        "x_seq_test = x_seq_test.reshape(10000,10,28*28)\n",
        "x_seq.shape"
      ],
      "execution_count": 53,
      "outputs": [
        {
          "output_type": "execute_result",
          "data": {
            "text/plain": [
              "(60000, 10, 784)"
            ]
          },
          "metadata": {
            "tags": []
          },
          "execution_count": 53
        }
      ]
    },
    {
      "cell_type": "markdown",
      "metadata": {
        "id": "g0N-h5dEBYBB",
        "colab_type": "text"
      },
      "source": [
        "Проверим, что все окей:"
      ]
    },
    {
      "cell_type": "code",
      "metadata": {
        "id": "rT2TcFFM_LyW",
        "colab_type": "code",
        "colab": {
          "base_uri": "https://localhost:8080/",
          "height": 143
        },
        "outputId": "64606867-9876-4c21-bf67-b775dc0ff121"
      },
      "source": [
        "fig=plt.figure(figsize=(16, 16))\n",
        "columns = 10\n",
        "rows = 1\n",
        "n=random.randint(0, 60000)\n",
        "print ('Sum of 1st and 2nd numbers is', y_seq[n])\n",
        "for i in range(1,11):\n",
        "    image = x_seq.reshape(60000, 10, 28,28)[n][i-1]\n",
        "    image = np.array(image, dtype='float')\n",
        "    fig.add_subplot(rows, columns, i)\n",
        "    plt.imshow(image)\n",
        "plt.show()"
      ],
      "execution_count": 94,
      "outputs": [
        {
          "output_type": "stream",
          "text": [
            "Sum of 1st and 2nd numbers is 13\n"
          ],
          "name": "stdout"
        },
        {
          "output_type": "display_data",
          "data": {
            "image/png": "[encoded data removed]",
            "text/plain": [
              "<Figure size 1152x1152 with 10 Axes>"
            ]
          },
          "metadata": {
            "tags": []
          }
        }
      ]
    },
    {
      "cell_type": "code",
      "metadata": {
        "id": "W4yw8pdOUZSS",
        "colab_type": "code",
        "colab": {}
      },
      "source": [
        "model = Sequential()\n",
        "#на вход подаю 10,10, 784 (28*28) потому, что в этом слое вроде никак нельзя запихнуть 28*28, возможно с Conv2dLstm можно, \n",
        "#но в чатике написали, что за это баллы снижать не будут, так что оставил так.\n",
        "model.add(LSTM(128, batch_input_shape=(10,10,784), activation='relu', return_sequences=True))\n",
        "model.add(Dropout(0.2))\n",
        "\n",
        "model.add(LSTM(128, activation='relu'))\n",
        "model.add(Dropout(0.2))\n",
        "\n",
        "model.add(Dense(32, activation='relu'))\n",
        "model.add(Dropout(0.2))\n",
        "\n",
        "model.add(Dense(19, activation='softmax'))"
      ],
      "execution_count": 0,
      "outputs": []
    },
    {
      "cell_type": "code",
      "metadata": {
        "id": "BiOIR9OlaaYa",
        "colab_type": "code",
        "colab": {
          "base_uri": "https://localhost:8080/",
          "height": 407
        },
        "outputId": "df8973a1-66eb-401c-8c8d-91b6d93a3433"
      },
      "source": [
        "model.summary()"
      ],
      "execution_count": 64,
      "outputs": [
        {
          "output_type": "stream",
          "text": [
            "Model: \"sequential_7\"\n",
            "_________________________________________________________________\n",
            "Layer (type)                 Output Shape              Param #   \n",
            "=================================================================\n",
            "lstm_11 (LSTM)               (10, 10, 128)             467456    \n",
            "_________________________________________________________________\n",
            "dropout_12 (Dropout)         (10, 10, 128)             0         \n",
            "_________________________________________________________________\n",
            "lstm_12 (LSTM)               (10, 128)                 131584    \n",
            "_________________________________________________________________\n",
            "dropout_13 (Dropout)         (10, 128)                 0         \n",
            "_________________________________________________________________\n",
            "dense_8 (Dense)              (10, 32)                  4128      \n",
            "_________________________________________________________________\n",
            "dropout_14 (Dropout)         (10, 32)                  0         \n",
            "_________________________________________________________________\n",
            "dense_9 (Dense)              (10, 19)                  627       \n",
            "=================================================================\n",
            "Total params: 603,795\n",
            "Trainable params: 603,795\n",
            "Non-trainable params: 0\n",
            "_________________________________________________________________\n"
          ],
          "name": "stdout"
        }
      ]
    },
    {
      "cell_type": "code",
      "metadata": {
        "id": "mfOXx4DmUZYT",
        "colab_type": "code",
        "colab": {}
      },
      "source": [
        "opt = tf.keras.optimizers.Adam(lr=1e-3, decay=1e-5)"
      ],
      "execution_count": 0,
      "outputs": []
    },
    {
      "cell_type": "code",
      "metadata": {
        "id": "hed9eQUWUZeb",
        "colab_type": "code",
        "colab": {}
      },
      "source": [
        "model.compile(loss='sparse_categorical_crossentropy', optimizer=opt,\n",
        "             metrics=['accuracy'])"
      ],
      "execution_count": 0,
      "outputs": []
    },
    {
      "cell_type": "code",
      "metadata": {
        "id": "zudMF9CUUZWU",
        "colab_type": "code",
        "colab": {
          "base_uri": "https://localhost:8080/",
          "height": 158
        },
        "outputId": "cb2f8db1-2876-4074-e282-816894d2d683"
      },
      "source": [
        "model.fit(x_seq, y_seq, epochs=3, validation_data=(x_seq_test, y_seq_test))"
      ],
      "execution_count": 67,
      "outputs": [
        {
          "output_type": "stream",
          "text": [
            "Train on 60000 samples, validate on 10000 samples\n",
            "Epoch 1/3\n",
            "60000/60000 [==============================] - 227s 4ms/sample - loss: 2.1998 - acc: 0.2212 - val_loss: 1.4235 - val_acc: 0.5041\n",
            "Epoch 2/3\n",
            "60000/60000 [==============================] - 219s 4ms/sample - loss: 1.0665 - acc: 0.6709 - val_loss: 0.5777 - val_acc: 0.8584\n",
            "Epoch 3/3\n",
            "60000/60000 [==============================] - 219s 4ms/sample - loss: 0.6128 - acc: 0.8458 - val_loss: 0.4783 - val_acc: 0.8924\n"
          ],
          "name": "stdout"
        },
        {
          "output_type": "execute_result",
          "data": {
            "text/plain": [
              "<tensorflow.python.keras.callbacks.History at 0x7f10b268da90>"
            ]
          },
          "metadata": {
            "tags": []
          },
          "execution_count": 67
        }
      ]
    },
    {
      "cell_type": "markdown",
      "metadata": {
        "id": "5hcGx6q6AZOi",
        "colab_type": "text"
      },
      "source": [
        "После первых трех эпох точность на тесте 0.89, но модель явно недообучена, потому что на трейне точность меньше, попробуем обучить еще"
      ]
    },
    {
      "cell_type": "code",
      "metadata": {
        "id": "Ngzn7fjK4rVU",
        "colab_type": "code",
        "colab": {
          "base_uri": "https://localhost:8080/",
          "height": 265
        },
        "outputId": "9851d1a3-5192-44d9-bd5c-14cf6c97e98c"
      },
      "source": [
        "model.fit(x_seq, y_seq, epochs=6, validation_data=(x_seq_test, y_seq_test))"
      ],
      "execution_count": 68,
      "outputs": [
        {
          "output_type": "stream",
          "text": [
            "Train on 60000 samples, validate on 10000 samples\n",
            "Epoch 1/6\n",
            "60000/60000 [==============================] - 220s 4ms/sample - loss: 0.4704 - acc: 0.8854 - val_loss: 0.4036 - val_acc: 0.9122\n",
            "Epoch 2/6\n",
            "60000/60000 [==============================] - 219s 4ms/sample - loss: 0.3834 - acc: 0.9078 - val_loss: 0.3928 - val_acc: 0.9120\n",
            "Epoch 3/6\n",
            "60000/60000 [==============================] - 219s 4ms/sample - loss: 0.3358 - acc: 0.9215 - val_loss: 0.3751 - val_acc: 0.9220\n",
            "Epoch 4/6\n",
            "60000/60000 [==============================] - 220s 4ms/sample - loss: 0.3010 - acc: 0.9292 - val_loss: 0.3803 - val_acc: 0.9198\n",
            "Epoch 5/6\n",
            "60000/60000 [==============================] - 219s 4ms/sample - loss: 0.2630 - acc: 0.9381 - val_loss: 0.3859 - val_acc: 0.9203\n",
            "Epoch 6/6\n",
            "60000/60000 [==============================] - 218s 4ms/sample - loss: 0.2254 - acc: 0.9456 - val_loss: 0.3830 - val_acc: 0.9277\n"
          ],
          "name": "stdout"
        },
        {
          "output_type": "execute_result",
          "data": {
            "text/plain": [
              "<tensorflow.python.keras.callbacks.History at 0x7f1274ea3e80>"
            ]
          },
          "metadata": {
            "tags": []
          },
          "execution_count": 68
        }
      ]
    },
    {
      "cell_type": "markdown",
      "metadata": {
        "id": "8fuFcr6mAoGx",
        "colab_type": "text"
      },
      "source": [
        "После 9 эпох точность более менее стабилизировалась на отметке 0.93 (округлим =) ), можно еще потренировать 3-4 эпохи, но большого прироста это не даст. Для увеличения точности нужно менять архитектуру нейросети или изменять параметры слоев/обучения.\n",
        "\n",
        "Проверим модельку:"
      ]
    },
    {
      "cell_type": "code",
      "metadata": {
        "id": "wVpAwz2pA-ZH",
        "colab_type": "code",
        "colab": {}
      },
      "source": [
        "pred = model.predict(x_seq_test)"
      ],
      "execution_count": 0,
      "outputs": []
    },
    {
      "cell_type": "code",
      "metadata": {
        "id": "oIcNyugqDxW9",
        "colab_type": "code",
        "colab": {
          "base_uri": "https://localhost:8080/",
          "height": 161
        },
        "outputId": "1e1a0f91-82d1-4249-9360-1474bddc7b8a"
      },
      "source": [
        "fig=plt.figure(figsize=(16, 16))\n",
        "columns = 10\n",
        "rows = 1\n",
        "n=random.randint(0, 10000)\n",
        "print ('True sum of 1st and 2nd numbers is', y_seq_test[n])\n",
        "print ('Predicted sum of 1st and 2nd numbers is', np.argmax(pred[n]))\n",
        "for i in range(1,11):\n",
        "    image = x_seq_test.reshape(10000, 10, 28,28)[n][i-1]\n",
        "    image = np.array(image, dtype='float')\n",
        "    fig.add_subplot(rows, columns, i)\n",
        "    plt.imshow(image)\n",
        "plt.show()"
      ],
      "execution_count": 118,
      "outputs": [
        {
          "output_type": "stream",
          "text": [
            "True sum of 1st and 2nd numbers is 7\n",
            "Predicted sum of 1st and 2nd numbers is 7\n"
          ],
          "name": "stdout"
        },
        {
          "output_type": "display_data",
          "data": {
            "image/png": "[encoded data removed]",
            "text/plain": [
              "<Figure size 1152x1152 with 10 Axes>"
            ]
          },
          "metadata": {
            "tags": []
          }
        }
      ]
    },
    {
      "cell_type": "code",
      "metadata": {
        "id": "EWoNaFzzDw2l",
        "colab_type": "code",
        "colab": {}
      },
      "source": [
        ""
      ],
      "execution_count": 0,
      "outputs": []
    }
  ]
}